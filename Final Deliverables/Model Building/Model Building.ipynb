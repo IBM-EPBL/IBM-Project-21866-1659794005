{
  "cells": [
    {
      "cell_type": "markdown",
      "metadata": {
        "id": "n7g3E1nQiA3A"
      },
      "source": [
        "**Import the library**"
      ]
    },
    {
      "cell_type": "code",
      "execution_count": null,
      "metadata": {
        "id": "uV01d09BOESF"
      },
      "outputs": [],
      "source": [
        "from keras.preprocessing.image import ImageDataGenerator"
      ]
    },
    {
      "cell_type": "code",
      "execution_count": null,
      "metadata": {
        "colab": {
          "base_uri": "https://localhost:8080/"
        },
        "id": "ACzhux3ZvmkY",
        "outputId": "bb759af3-11bf-4ce5-9821-ffb28481a627"
      },
      "outputs": [
        {
          "output_type": "stream",
          "name": "stdout",
          "text": [
            "Mounted at /content/drive\n"
          ]
        }
      ],
      "source": [
        "from google.colab import drive\n",
        "drive.mount('/content/drive')"
      ]
    },
    {
      "cell_type": "markdown",
      "metadata": {
        "id": "abXSAukdiIZG"
      },
      "source": [
        "**Applying ImageDataGenerator functionality to trainset and testset**"
      ]
    },
    {
      "cell_type": "code",
      "execution_count": null,
      "metadata": {
        "id": "S6D487XPwMe-"
      },
      "outputs": [],
      "source": [
        "train_datagen = ImageDataGenerator(rescale=1./255,shear_range=0.2,zoom_range=0.2,horizontal_flip=True)\n",
        "test_datagen=ImageDataGenerator(rescale=1./255)"
      ]
    },
    {
      "cell_type": "markdown",
      "metadata": {
        "id": "R7tYHlpjio3F"
      },
      "source": [
        "**Data Agumentation**"
      ]
    },
    {
      "cell_type": "code",
      "execution_count": null,
      "metadata": {
        "colab": {
          "base_uri": "https://localhost:8080/"
        },
        "id": "zLCkg4M4PEpc",
        "outputId": "5fdd1284-b457-40ea-a903-50d65f17f8aa"
      },
      "outputs": [
        {
          "output_type": "stream",
          "name": "stdout",
          "text": [
            "Found 4118 images belonging to 5 classes.\n",
            "Found 929 images belonging to 5 classes.\n"
          ]
        }
      ],
      "source": [
        "#performing data agumentation to train data\n",
        "x_train = train_datagen.flow_from_directory(\n",
        "    r'/content/drive/MyDrive/Colab Notebooks/Dataset-20221108T081455Z-001/Dataset/TRAIN_SET',target_size=(64, 64),batch_size=5,color_mode='rgb',class_mode='sparse')\n",
        "#performing data agumentation to test data\n",
        "x_test = test_datagen.flow_from_directory(\n",
        "    r'/content/drive/MyDrive/Colab Notebooks/Dataset-20221108T081455Z-001/Dataset/TEST_SET',\n",
        "    target_size=(64, 64),batch_size=5,color_mode='rgb',class_mode='sparse') "
      ]
    },
    {
      "cell_type": "code",
      "execution_count": null,
      "metadata": {
        "colab": {
          "base_uri": "https://localhost:8080/"
        },
        "id": "8Xv_8iBo6LHH",
        "outputId": "78b14c0b-30f9-4c60-c129-837aca96e1db"
      },
      "outputs": [
        {
          "output_type": "stream",
          "name": "stdout",
          "text": [
            "{'APPLES': 0, 'BANANA': 1, 'ORANGE': 2, 'PINEAPPLE': 3, 'WATERMELON': 4}\n"
          ]
        }
      ],
      "source": [
        "print(x_train.class_indices)\n"
      ]
    },
    {
      "cell_type": "code",
      "execution_count": null,
      "metadata": {
        "colab": {
          "base_uri": "https://localhost:8080/"
        },
        "id": "BcgsOXVCxdVt",
        "outputId": "91e9c65a-5a7d-44a0-ebb6-28d3bd2825d6"
      },
      "outputs": [
        {
          "output_type": "stream",
          "name": "stdout",
          "text": [
            "{'APPLES': 0, 'BANANA': 1, 'ORANGE': 2, 'PINEAPPLE': 3, 'WATERMELON': 4}\n"
          ]
        }
      ],
      "source": [
        "print(x_test.class_indices)"
      ]
    },
    {
      "cell_type": "code",
      "execution_count": null,
      "metadata": {
        "colab": {
          "base_uri": "https://localhost:8080/"
        },
        "id": "83SMtbG-xs3K",
        "outputId": "a851ddfc-8759-4124-9347-3719d39a1232"
      },
      "outputs": [
        {
          "output_type": "execute_result",
          "data": {
            "text/plain": [
              "Counter({0: 995, 1: 1354, 2: 1019, 3: 275, 4: 475})"
            ]
          },
          "metadata": {},
          "execution_count": 8
        }
      ],
      "source": [
        "from collections import Counter as c\n",
        "c(x_train .labels)"
      ]
    },
    {
      "cell_type": "markdown",
      "metadata": {
        "id": "y9CJEUAHklH6"
      },
      "source": [
        "**Importing The Model Building Libraries**"
      ]
    },
    {
      "cell_type": "code",
      "execution_count": null,
      "metadata": {
        "id": "6GFIz9HkkgUh"
      },
      "outputs": [],
      "source": [
        "import numpy as np#used for numerical analysis\n",
        "import tensorflow #open source used for both ML and DL for computation\n",
        "from tensorflow.keras.models import Sequential #it is a plain stack of layers\n",
        "from tensorflow.keras import layers #A layer consists of a tensor-in tensor-out computation function\n",
        "#Dense layer is the regular deeply connected neural network layer\n",
        "from tensorflow.keras.layers import Dense,Flatten\n",
        "#Faltten-used fot flattening the input or change the dimension\n",
        "from tensorflow.keras.layers import Conv2D,MaxPooling2D,Dropout #Convolutional layer\n",
        "#MaxPooling2D-for downsampling the image\n",
        "from keras.preprocessing.image import ImageDataGenerator"
      ]
    },
    {
      "cell_type": "markdown",
      "metadata": {
        "id": "QePIIDJelAkQ"
      },
      "source": [
        "**Initializing The Model** "
      ]
    },
    {
      "cell_type": "code",
      "execution_count": null,
      "metadata": {
        "id": "P-gohPTjkxWa"
      },
      "outputs": [],
      "source": [
        "classifier = Sequential()"
      ]
    },
    {
      "cell_type": "markdown",
      "metadata": {
        "id": "Uq5Tt794l2P_"
      },
      "source": [
        "**Adding CNN Layer**"
      ]
    },
    {
      "cell_type": "code",
      "execution_count": null,
      "metadata": {
        "id": "n3YlfS4Sl6cA"
      },
      "outputs": [],
      "source": [
        "\n",
        "classifier = Sequential()\n",
        "\n",
        "classifier.add(Conv2D(32, (3, 3), input_shape=(64, 64, 3), activation='relu'))\n",
        "classifier.add(MaxPooling2D(pool_size=(2, 2)))\n",
        "\n",
        "\n",
        "classifier.add(Conv2D(32, (3, 3), activation='relu'))\n",
        "\n",
        "\n",
        "classifier.add(MaxPooling2D(pool_size=(2, 2)))\n",
        "\n",
        "classifier.add(Flatten())\n",
        "\n",
        "classifier.add(Dense(units=128, activation='relu'))\n",
        "classifier.add(Dense(units=5, activation='softmax')) \n",
        "\n"
      ]
    },
    {
      "cell_type": "markdown",
      "metadata": {
        "id": "NnbLb_i6mjIG"
      },
      "source": [
        "**Add Flatten Layer**"
      ]
    },
    {
      "cell_type": "code",
      "execution_count": null,
      "metadata": {
        "id": "hbSJHLAMmEph"
      },
      "outputs": [],
      "source": [
        "classifier.add(Flatten())"
      ]
    },
    {
      "cell_type": "markdown",
      "metadata": {
        "id": "FDDdRyOwmzFd"
      },
      "source": [
        "**Add Dense Layer**"
      ]
    },
    {
      "cell_type": "code",
      "execution_count": null,
      "metadata": {
        "id": "1fFRmkDSm17N"
      },
      "outputs": [],
      "source": [
        "classifier.add(Dense(units=128, activation='relu'))\n",
        "classifier.add(Dense(units=5, activation='softmax')) "
      ]
    },
    {
      "cell_type": "markdown",
      "metadata": {
        "id": "686GB5mknBVA"
      },
      "source": [
        "**Configuring the learning process**"
      ]
    },
    {
      "cell_type": "code",
      "execution_count": null,
      "metadata": {
        "id": "boUWFaYbnAVe"
      },
      "outputs": [],
      "source": [
        "classifier.add(Dense(units=128, activation='relu'))\n",
        "classifier.add(Dense(units=5, activation='softmax'))"
      ]
    },
    {
      "cell_type": "code",
      "execution_count": null,
      "metadata": {
        "colab": {
          "base_uri": "https://localhost:8080/"
        },
        "id": "yY6gSbavneL9",
        "outputId": "22a72550-2590-4d35-fb7a-ee10f7aad28e"
      },
      "outputs": [
        {
          "output_type": "stream",
          "name": "stdout",
          "text": [
            "Model: \"sequential_1\"\n",
            "_________________________________________________________________\n",
            " Layer (type)                Output Shape              Param #   \n",
            "=================================================================\n",
            " conv2d (Conv2D)             (None, 62, 62, 32)        896       \n",
            "                                                                 \n",
            " max_pooling2d (MaxPooling2D  (None, 31, 31, 32)       0         \n",
            " )                                                               \n",
            "                                                                 \n",
            " conv2d_1 (Conv2D)           (None, 29, 29, 32)        9248      \n",
            "                                                                 \n",
            " max_pooling2d_1 (MaxPooling  (None, 14, 14, 32)       0         \n",
            " 2D)                                                             \n",
            "                                                                 \n",
            " flatten (Flatten)           (None, 6272)              0         \n",
            "                                                                 \n",
            " dense (Dense)               (None, 128)               802944    \n",
            "                                                                 \n",
            " dense_1 (Dense)             (None, 5)                 645       \n",
            "                                                                 \n",
            " flatten_1 (Flatten)         (None, 5)                 0         \n",
            "                                                                 \n",
            " dense_2 (Dense)             (None, 128)               768       \n",
            "                                                                 \n",
            " dense_3 (Dense)             (None, 5)                 645       \n",
            "                                                                 \n",
            " dense_4 (Dense)             (None, 128)               768       \n",
            "                                                                 \n",
            " dense_5 (Dense)             (None, 5)                 645       \n",
            "                                                                 \n",
            "=================================================================\n",
            "Total params: 816,559\n",
            "Trainable params: 816,559\n",
            "Non-trainable params: 0\n",
            "_________________________________________________________________\n"
          ]
        }
      ],
      "source": [
        "classifier.summary()"
      ]
    },
    {
      "cell_type": "code",
      "execution_count": null,
      "metadata": {
        "id": "Fgd5yIrmngWV"
      },
      "outputs": [],
      "source": [
        "classifier.compile(optimizer='adam', loss='sparse_categorical_crossentropy', metrics=['accuracy']) "
      ]
    },
    {
      "cell_type": "markdown",
      "metadata": {
        "id": "VxcTp0WWnt8U"
      },
      "source": [
        "**Train the model**"
      ]
    },
    {
      "cell_type": "code",
      "execution_count": 25,
      "metadata": {
        "colab": {
          "base_uri": "https://localhost:8080/"
        },
        "id": "n5u8dSEGngYN",
        "outputId": "cec06812-0984-4fef-eba1-df9eee1e7a8d"
      },
      "outputs": [
        {
          "output_type": "stream",
          "name": "stdout",
          "text": [
            "Epoch 1/20\n"
          ]
        },
        {
          "output_type": "stream",
          "name": "stderr",
          "text": [
            "/usr/local/lib/python3.7/dist-packages/ipykernel_launcher.py:2: UserWarning: `Model.fit_generator` is deprecated and will be removed in a future version. Please use `Model.fit`, which supports generators.\n",
            "  \n"
          ]
        },
        {
          "output_type": "stream",
          "name": "stdout",
          "text": [
            "824/824 [==============================] - 566s 686ms/step - loss: 1.4881 - accuracy: 0.3288 - val_loss: 1.2730 - val_accuracy: 0.4467\n",
            "Epoch 2/20\n",
            "824/824 [==============================] - 50s 61ms/step - loss: 1.4867 - accuracy: 0.3288 - val_loss: 1.2474 - val_accuracy: 0.4467\n",
            "Epoch 3/20\n",
            "824/824 [==============================] - 50s 61ms/step - loss: 1.4866 - accuracy: 0.3288 - val_loss: 1.2880 - val_accuracy: 0.4467\n",
            "Epoch 4/20\n",
            "824/824 [==============================] - 50s 61ms/step - loss: 1.4872 - accuracy: 0.3288 - val_loss: 1.2993 - val_accuracy: 0.4467\n",
            "Epoch 5/20\n",
            "824/824 [==============================] - 52s 63ms/step - loss: 1.4864 - accuracy: 0.3288 - val_loss: 1.2954 - val_accuracy: 0.4467\n",
            "Epoch 6/20\n",
            "824/824 [==============================] - 50s 60ms/step - loss: 1.4865 - accuracy: 0.3288 - val_loss: 1.2704 - val_accuracy: 0.4467\n",
            "Epoch 7/20\n",
            "824/824 [==============================] - 50s 60ms/step - loss: 1.4867 - accuracy: 0.3288 - val_loss: 1.2686 - val_accuracy: 0.4467\n",
            "Epoch 8/20\n",
            "824/824 [==============================] - 50s 61ms/step - loss: 1.4867 - accuracy: 0.3288 - val_loss: 1.3006 - val_accuracy: 0.4467\n",
            "Epoch 9/20\n",
            "824/824 [==============================] - 50s 61ms/step - loss: 1.4864 - accuracy: 0.3288 - val_loss: 1.2852 - val_accuracy: 0.4467\n",
            "Epoch 10/20\n",
            "824/824 [==============================] - 52s 63ms/step - loss: 1.4863 - accuracy: 0.3288 - val_loss: 1.2989 - val_accuracy: 0.4467\n",
            "Epoch 11/20\n",
            "824/824 [==============================] - 51s 61ms/step - loss: 1.4861 - accuracy: 0.3288 - val_loss: 1.2975 - val_accuracy: 0.4467\n",
            "Epoch 12/20\n",
            "824/824 [==============================] - 50s 60ms/step - loss: 1.4868 - accuracy: 0.3288 - val_loss: 1.2746 - val_accuracy: 0.4467\n",
            "Epoch 13/20\n",
            "824/824 [==============================] - 49s 60ms/step - loss: 1.4865 - accuracy: 0.3288 - val_loss: 1.2688 - val_accuracy: 0.4467\n",
            "Epoch 14/20\n",
            "824/824 [==============================] - 53s 64ms/step - loss: 1.4863 - accuracy: 0.3288 - val_loss: 1.2513 - val_accuracy: 0.4467\n",
            "Epoch 15/20\n",
            "824/824 [==============================] - 51s 61ms/step - loss: 1.4861 - accuracy: 0.3288 - val_loss: 1.2651 - val_accuracy: 0.4467\n",
            "Epoch 16/20\n",
            "824/824 [==============================] - 50s 61ms/step - loss: 1.4868 - accuracy: 0.3288 - val_loss: 1.2610 - val_accuracy: 0.4467\n",
            "Epoch 17/20\n",
            "824/824 [==============================] - 50s 61ms/step - loss: 1.4865 - accuracy: 0.3288 - val_loss: 1.2690 - val_accuracy: 0.4467\n",
            "Epoch 18/20\n",
            "824/824 [==============================] - 52s 64ms/step - loss: 1.4867 - accuracy: 0.3288 - val_loss: 1.2734 - val_accuracy: 0.4467\n",
            "Epoch 19/20\n",
            "824/824 [==============================] - 50s 60ms/step - loss: 1.4857 - accuracy: 0.3288 - val_loss: 1.2862 - val_accuracy: 0.4467\n",
            "Epoch 20/20\n",
            "824/824 [==============================] - 50s 61ms/step - loss: 1.4866 - accuracy: 0.3288 - val_loss: 1.2913 - val_accuracy: 0.4467\n"
          ]
        },
        {
          "output_type": "execute_result",
          "data": {
            "text/plain": [
              "<keras.callbacks.History at 0x7efd831d7c10>"
            ]
          },
          "metadata": {},
          "execution_count": 25
        }
      ],
      "source": [
        "classifier.fit_generator(generator=x_train,steps_per_epoch = len(x_train),\n",
        "                         epochs=20, validation_data=x_test,validation_steps = len(x_test))\n",
        "# No of images in test set"
      ]
    },
    {
      "cell_type": "markdown",
      "metadata": {
        "id": "YT1udayCvg-y"
      },
      "source": [
        "**Save the Model**"
      ]
    },
    {
      "cell_type": "code",
      "execution_count": 26,
      "metadata": {
        "id": "jcxLmXwPvmNS"
      },
      "outputs": [],
      "source": [
        "classifier.save('nutrition.h5')"
      ]
    },
    {
      "cell_type": "markdown",
      "metadata": {
        "id": "QlMi6A7Mvt3x"
      },
      "source": [
        "**Predicition**"
      ]
    },
    {
      "cell_type": "code",
      "execution_count": 27,
      "metadata": {
        "id": "gLQZ2-Axvp4D"
      },
      "outputs": [],
      "source": [
        "from tensorflow.keras.models import load_model\n",
        "from tensorflow.keras.preprocessing import image\n",
        "import numpy as np"
      ]
    },
    {
      "cell_type": "code",
      "execution_count": 29,
      "metadata": {
        "id": "ck-vFXqZwBwy"
      },
      "outputs": [],
      "source": [
        "img = image.load_img(\"/content/drive/MyDrive/Colab Notebooks/Dataset-20221108T081455Z-001/Dataset/TEST_SET/ORANGE/n07749192_1010.jpg\",target_size= (64,64))"
      ]
    },
    {
      "cell_type": "code",
      "execution_count": 30,
      "metadata": {
        "id": "kiwDbFuXwHNa"
      },
      "outputs": [],
      "source": [
        "x=image.img_to_array(img)"
      ]
    },
    {
      "cell_type": "code",
      "execution_count": 31,
      "metadata": {
        "colab": {
          "base_uri": "https://localhost:8080/"
        },
        "id": "oDN1JLpnwZqy",
        "outputId": "a7344256-2fb0-43b7-e477-a371c0389564"
      },
      "outputs": [
        {
          "output_type": "execute_result",
          "data": {
            "text/plain": [
              "array([[[ 69., 130.,  99.],\n",
              "        [ 67., 130., 103.],\n",
              "        [ 68., 136., 113.],\n",
              "        ...,\n",
              "        [ 22.,  33.,  19.],\n",
              "        [ 19.,  25.,  15.],\n",
              "        [ 21.,  22.,  14.]],\n",
              "\n",
              "       [[ 60., 115.,  86.],\n",
              "        [ 66., 120.,  96.],\n",
              "        [ 72., 131., 113.],\n",
              "        ...,\n",
              "        [ 22.,  34.,  20.],\n",
              "        [ 21.,  24.,  15.],\n",
              "        [ 21.,  22.,  14.]],\n",
              "\n",
              "       [[ 41.,  81.,  57.],\n",
              "        [ 48.,  90.,  70.],\n",
              "        [ 70., 114.,  99.],\n",
              "        ...,\n",
              "        [ 23.,  36.,  19.],\n",
              "        [ 20.,  23.,  12.],\n",
              "        [ 20.,  23.,  16.]],\n",
              "\n",
              "       ...,\n",
              "\n",
              "       [[ 16.,  28.,  18.],\n",
              "        [ 18.,  30.,  18.],\n",
              "        [ 19.,  31.,  17.],\n",
              "        ...,\n",
              "        [ 20.,  24.,  23.],\n",
              "        [ 20.,  26.,  26.],\n",
              "        [ 16.,  22.,  20.]],\n",
              "\n",
              "       [[ 15.,  25.,  16.],\n",
              "        [ 17.,  29.,  19.],\n",
              "        [ 17.,  29.,  19.],\n",
              "        ...,\n",
              "        [ 19.,  25.,  21.],\n",
              "        [ 18.,  29.,  25.],\n",
              "        [ 15.,  26.,  22.]],\n",
              "\n",
              "       [[ 15.,  25.,  17.],\n",
              "        [ 15.,  25.,  16.],\n",
              "        [ 14.,  26.,  16.],\n",
              "        ...,\n",
              "        [ 16.,  22.,  20.],\n",
              "        [ 15.,  26.,  22.],\n",
              "        [ 14.,  25.,  21.]]], dtype=float32)"
            ]
          },
          "metadata": {},
          "execution_count": 31
        }
      ],
      "source": [
        "x"
      ]
    },
    {
      "cell_type": "code",
      "execution_count": 32,
      "metadata": {
        "colab": {
          "base_uri": "https://localhost:8080/"
        },
        "id": "elpCBowqwbeB",
        "outputId": "61f73b86-f586-4aa4-eac8-e088871c203e"
      },
      "outputs": [
        {
          "output_type": "execute_result",
          "data": {
            "text/plain": [
              "3"
            ]
          },
          "metadata": {},
          "execution_count": 32
        }
      ],
      "source": [
        "x.ndim"
      ]
    },
    {
      "cell_type": "code",
      "execution_count": 33,
      "metadata": {
        "id": "9KbYyA48wiEy"
      },
      "outputs": [],
      "source": [
        "x=np.expand_dims(x,axis=0)"
      ]
    },
    {
      "cell_type": "code",
      "execution_count": 34,
      "metadata": {
        "colab": {
          "base_uri": "https://localhost:8080/"
        },
        "id": "I6gPiOrMwjkq",
        "outputId": "08be21bd-96b6-45bc-b014-1c5c3f06b5ca"
      },
      "outputs": [
        {
          "output_type": "execute_result",
          "data": {
            "text/plain": [
              "4"
            ]
          },
          "metadata": {},
          "execution_count": 34
        }
      ],
      "source": [
        "x.ndim"
      ]
    },
    {
      "cell_type": "code",
      "execution_count": 35,
      "metadata": {
        "colab": {
          "base_uri": "https://localhost:8080/"
        },
        "id": "jwrNkuUSwmwq",
        "outputId": "b57b7e9c-312a-4230-8835-8550f3599c67"
      },
      "outputs": [
        {
          "output_type": "stream",
          "name": "stdout",
          "text": [
            "1/1 [==============================] - 0s 146ms/step\n"
          ]
        }
      ],
      "source": [
        "pred = classifier.predict(x)"
      ]
    },
    {
      "cell_type": "code",
      "execution_count": 36,
      "metadata": {
        "colab": {
          "base_uri": "https://localhost:8080/"
        },
        "id": "G2R7NXkzwwNB",
        "outputId": "223a1af6-6c57-448c-deb4-66cfa803cb98"
      },
      "outputs": [
        {
          "output_type": "execute_result",
          "data": {
            "text/plain": [
              "array([[0.23904337, 0.32214862, 0.24499677, 0.06783903, 0.12597227]],\n",
              "      dtype=float32)"
            ]
          },
          "metadata": {},
          "execution_count": 36
        }
      ],
      "source": [
        "pred"
      ]
    },
    {
      "cell_type": "code",
      "execution_count": 38,
      "metadata": {
        "colab": {
          "base_uri": "https://localhost:8080/",
          "height": 35
        },
        "id": "OAXqzNLFw1pn",
        "outputId": "840f686a-9f99-412f-d9f4-1c0fe58df661"
      },
      "outputs": [
        {
          "output_type": "execute_result",
          "data": {
            "text/plain": [
              "'BANANA'"
            ],
            "application/vnd.google.colaboratory.intrinsic+json": {
              "type": "string"
            }
          },
          "metadata": {},
          "execution_count": 38
        }
      ],
      "source": [
        "labels=['APPLES', 'BANANA', 'ORANGE','PINEAPPLE','WATERMELON']\n",
        "labels[np.argmax(pred)]"
      ]
    }
  ],
  "metadata": {
    "colab": {
      "collapsed_sections": [],
      "provenance": []
    },
    "kernelspec": {
      "display_name": "Python 3",
      "name": "python3"
    },
    "language_info": {
      "name": "python"
    }
  },
  "nbformat": 4,
  "nbformat_minor": 0
}